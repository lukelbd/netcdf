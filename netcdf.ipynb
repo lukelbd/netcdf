{
 "cells": [
  {
   "cell_type": "markdown",
   "id": "4346308c",
   "metadata": {},
   "source": [
    "# Background"
   ]
  },
  {
   "cell_type": "markdown",
   "id": "b9181df1",
   "metadata": {},
   "source": [
    "## Introduction"
   ]
  },
  {
   "cell_type": "markdown",
   "id": "985ef357",
   "metadata": {},
   "source": [
    "### Problem\n",
    "\n",
    "Earth scientists work with huge, 4+ dimensional datasets (3\n",
    "spatial dimensions, 1 time dimension, and sometimes even more).\n",
    "\n",
    "- Example: Air temperature (longitude, latitude, height, time)\n",
    "- Example: Surface pressure from \"ensemble\" of model simulations\n",
    "  (longitude, latitude, time, ensemble member)\n",
    "- Example: Satellite-retrieved radiation (projection x-coordinate,\n",
    "  projection y-coordinate, wavenumber)\n",
    "    \n",
    "### Question\n",
    "\n",
    "What's the best way to **store** these 4+ dimensional datasets?\n",
    "\n",
    "- Spreadsheets? Not enough dimensions.\n",
    "- Matrices? No way to annotate \"rows\", \"columns\", etc.\n",
    "\n",
    "### Answer\n",
    "\n",
    "The [NetCDF](https://en.wikipedia.org/wiki/NetCDF) format\n",
    "(Network Common Data Form) developed by\n",
    "[UCAR/Unidata](https://www.unidata.ucar.edu/software/netcdf/) (right\n",
    "down the road!).\n",
    "\n",
    "- Description: Annotated N-dimensional matrices (arrays)\n",
    "- File extension: `.nc`\n",
    "\n",
    "There are other similar data formats\n",
    "([HDF](https://en.wikipedia.org/wiki/Hierarchical_Data_Format),\n",
    "[GRIB](https://en.wikipedia.org/wiki/GRIB)), and some software can work\n",
    "seamlessly with different formats... but **NetCDF is your new best friend**."
   ]
  },
  {
   "cell_type": "markdown",
   "id": "f378010b",
   "metadata": {},
   "source": [
    "## Architecture"
   ]
  },
  {
   "cell_type": "markdown",
   "id": "43f2ebf8",
   "metadata": {},
   "source": [
    "NetCDF files have the following features:\n",
    "\n",
    "- Named dimensions, describing the dimensions on the arrays contained in the NetCDF file.\n",
    "- Named variables, i.e. the data arrays, each with their own dimensions and attributes.\n",
    "- \"Coordinate variables\", named variables whose name matches a dimension name. **Coordinate variables are optional.**\n",
    "- Global attributes, describing the contents of the NetCDF file. **Attributes are optional.**\n",
    "\n",
    "Here are some variable attributes [associated with the CF standard](http://cfconventions.org/cf-conventions/v1.6.0/cf-conventions.html#variables) you should know about:\n",
    "\n",
    "- `long_name`: A descriptive, human-readable name (as opposed to the \"short\" variable name), e.g. the variable `'t'` might have `long_name = 'air temperature'`.\n",
    "- `standard_name`: An unambiguous **unique** variable name, laid out by the CF standard. Used by software to interpret stuff.\n",
    "- `units`: A string indicating the variable units.\n",
    "- `_FillValue`: The value used to indicate missing data. Applied in xarray as NaNs and in netcdf4 as masked values.\n",
    "- `add_offset`, `scale_factor`: Constants used to help compress files that must be applied to variable data using `scaled = add_offset + scale_factor * unscaled`.\n",
    "\n",
    "\n",
    "Example: A simple file containing [HadCRUT](https://crudata.uea.ac.uk/cru/data/temperature/) land and sea surface temperature data."
   ]
  },
  {
   "cell_type": "code",
   "execution_count": 27,
   "id": "347a31b3",
   "metadata": {},
   "outputs": [
    {
     "name": "stdout",
     "output_type": "stream",
     "text": [
      "netcdf sst {\n",
      "dimensions:\n",
      "\tlatitude = 36 ;\n",
      "\tlongitude = 72 ;\n",
      "\tfield_status_string_length = 1 ;\n",
      "\ttime = UNLIMITED ; // (2010 currently)\n",
      "variables:\n",
      "\tfloat latitude(latitude) ;\n",
      "\t\tlatitude:standard_name = \"latitude\" ;\n",
      "\t\tlatitude:long_name = \"latitude\" ;\n",
      "\t\tlatitude:point_spacing = \"even\" ;\n",
      "\t\tlatitude:units = \"degrees_north\" ;\n",
      "\t\tlatitude:axis = \"Y\" ;\n",
      "\tfloat longitude(longitude) ;\n",
      "\t\tlongitude:standard_name = \"longitude\" ;\n",
      "\t\tlongitude:long_name = \"longitude\" ;\n",
      "\t\tlongitude:point_spacing = \"even\" ;\n",
      "\t\tlongitude:units = \"degrees_east\" ;\n",
      "\t\tlongitude:axis = \"X\" ;\n",
      "\tfloat time(time) ;\n",
      "\t\ttime:standard_name = \"time\" ;\n",
      "\t\ttime:long_name = \"time\" ;\n",
      "\t\ttime:units = \"days since 1850-1-1 00:00:00\" ;\n",
      "\t\ttime:calendar = \"gregorian\" ;\n",
      "\t\ttime:start_year = 1850s ;\n",
      "\t\ttime:end_year = 2017s ;\n",
      "\t\ttime:start_month = 1s ;\n",
      "\t\ttime:end_month = 6s ;\n",
      "\t\ttime:axis = \"T\" ;\n",
      "\tfloat temperature_anomaly(time, latitude, longitude) ;\n",
      "\t\ttemperature_anomaly:long_name = \"near_surface_temperature_anomaly\" ;\n",
      "\t\ttemperature_anomaly:units = \"K\" ;\n",
      "\t\ttemperature_anomaly:missing_value = -1.e+30f ;\n",
      "\t\ttemperature_anomaly:_FillValue = -1.e+30f ;\n",
      "\t\ttemperature_anomaly:reference_period = 1961s, 1990s ;\n",
      "\tchar field_status(time, field_status_string_length) ;\n",
      "\t\tfield_status:long_name = \"field_status\" ;\n",
      "\n",
      "// global attributes:\n",
      "\t\t:title = \"HadCRUT4 near-surface temperature ensemble data - ensemble median\" ;\n",
      "\t\t:institution = \"Met Office Hadley Centre / Climatic Research Unit, University of East Anglia\" ;\n",
      "\t\t:history = \"Updated at 26/07/2017 12:27:42\" ;\n",
      "\t\t:source = \"CRUTEM.4.5.0.0, HadSST.3.1.1.0\" ;\n",
      "\t\t:comment = \"\" ;\n",
      "\t\t:reference = \"Morice, C. P., J. J. Kennedy, N. A. Rayner, and P. D. Jones (2012), Quantifying uncertainties in global and regional temperature change using an ensemble of observational estimates: The HadCRUT4 dataset, J. Geophys. Res., doi:10.1029/2011JD017187\" ;\n",
      "\t\t:version = \"HadCRUT.4.5.0.0\" ;\n",
      "\t\t:Conventions = \"CF-1.0\" ;\n",
      "\t\t:ensemble_members = 100s ;\n",
      "\t\t:ensemble_member_index = 0s ;\n",
      "}\n"
     ]
    }
   ],
   "source": [
    "%%bash\n",
    "ncdump -h data/sst.nc"
   ]
  },
  {
   "cell_type": "markdown",
   "id": "625234e0",
   "metadata": {},
   "source": [
    "NetCDF files also have [different \"version\n",
    "numbers\"](https://www.unidata.ucar.edu/software/netcdf/docs/faq.html#How-many-netCDF-formats-are-there-and-what-are-the-differences-among-them):\n",
    "\n",
    "\n",
    "-   NetCDF3 (version 3) [retired in\n",
    "    2008](https://www.unidata.ucar.edu/software/netcdf/docs/RELEASE_NOTES.html#autotoc_md60).\n",
    "    Unidata is [currently on version\n",
    "    4](https://www.unidata.ucar.edu/software/netcdf/docs/RELEASE_NOTES.html#autotoc_md0).\n",
    "-   However version 3 still widespread. Scientists are slow to change\n",
    "    their ways... too many other things to worry about.\n",
    "-   Some things in NetCDF4 are impossible in NetCDF3 (e.g., multiple unlimited\n",
    "    dimensions), and NetCDF4 is a bit smaller, so use whenever possible.\n",
    "-   Weird read/write bugs can arise due to version\n",
    "    incompatibilities.\n",
    "\n",
    "NetCDF3 is still everywhere, so you may need to use it."
   ]
  },
  {
   "cell_type": "code",
   "execution_count": 25,
   "id": "91b0454b",
   "metadata": {},
   "outputs": [
    {
     "name": "stdout",
     "output_type": "stream",
     "text": [
      "netCDF-4\n"
     ]
    }
   ],
   "source": [
    "%%bash\n",
    "ncdump -k data/sst.nc"
   ]
  },
  {
   "cell_type": "code",
   "execution_count": 26,
   "id": "3114ef00",
   "metadata": {},
   "outputs": [
    {
     "name": "stdout",
     "output_type": "stream",
     "text": [
      "classic\n"
     ]
    }
   ],
   "source": [
    "%%bash\n",
    "ncdump -k data/landfracs.nc"
   ]
  },
  {
   "cell_type": "markdown",
   "id": "85d4fd6b",
   "metadata": {},
   "source": [
    "# Command-line tools"
   ]
  },
  {
   "cell_type": "markdown",
   "id": "5b8a9397",
   "metadata": {},
   "source": [
    "There's lots of software for working with NetCDF (HDF, GRIB) files.\n",
    "First, the command-line tools:\n",
    "\n",
    "- [NCO](http://nco.sourceforge.net/nco.html) (NetCDF Operators).\n",
    "- [CDO](https://code.mpimet.mpg.de/projects/cdo/wiki/Cdo#Documentation) (Climate Data Operators)."
   ]
  },
  {
   "cell_type": "markdown",
   "id": "694c87c1",
   "metadata": {},
   "source": [
    "## NCO"
   ]
  },
  {
   "cell_type": "markdown",
   "id": "fa8fe17e",
   "metadata": {},
   "source": [
    "- Developed by Unidata, the makers of the NetCDF format.\n",
    "- Extremely versatile but a bit clunky to learn.\n",
    "- Tend to be slower.\n",
    "\n",
    "\n",
    "These consist of a suite of separate commands:\n",
    "\n",
    "- ncap2: netCDF Arithmetic Processor (examples)\n",
    "- ncatted: netCDF ATTribute EDitor (examples)\n",
    "- ncbo: netCDF Binary Operator (addition, multiplication...) (examples)\n",
    "- ncclimo: netCDF CLIMatOlogy Generator (examples)\n",
    "- nces: netCDF Ensemble Statistics (examples)\n",
    "- ncecat: netCDF Ensemble conCATenator (examples)\n",
    "- ncflint: netCDF FiLe INTerpolator (examples)\n",
    "- ncks: netCDF Kitchen Sink (examples)\n",
    "- ncpdq: netCDF Permute Dimensions Quickly, Pack Data Quietly (examples)\n",
    "- ncra: netCDF Record Averager (examples)\n",
    "- ncrcat: netCDF Record conCATenator (examples)\n",
    "- ncremap: netCDF REMAPer (examples)\n",
    "- ncrename: netCDF RENAMEer (examples)\n",
    "- ncwa: netCDF Weighted Averager (examples)"
   ]
  },
  {
   "cell_type": "markdown",
   "id": "e6c41998-44cf-41c4-8912-500cf441cd87",
   "metadata": {},
   "source": [
    "I recommend using `nco` for straightforward operations like `ncatted` and `ncrename` and `cdo` for more complicated operations.\n",
    "\n",
    "The following example reads XYZT temperature and wind data, then saves YZT \"eddy heat flux\"."
   ]
  },
  {
   "cell_type": "code",
   "execution_count": 20,
   "id": "7e3eac2e-a463-47ab-bbda-b9c758a9a19b",
   "metadata": {},
   "outputs": [
    {
     "name": "stdout",
     "output_type": "stream",
     "text": [
      "netcdf atmosphere {\n",
      "dimensions:\n",
      "\ttime = UNLIMITED ; // (200 currently)\n",
      "\tplev = 60 ;\n",
      "\tlat = 6 ;\n",
      "\tlon = 12 ;\n",
      "variables:\n",
      "\tfloat time(time) ;\n",
      "\t\ttime:long_name = \"time\" ;\n",
      "\t\ttime:calendar = \"360_day\" ;\n",
      "\t\ttime:units = \"days since 00-01-01 00:00:00\" ;\n",
      "\t\ttime:axis = \"T\" ;\n",
      "\t\ttime:standard_name = \"time\" ;\n",
      "\tfloat plev(plev) ;\n",
      "\t\tplev:long_name = \"pressure level\" ;\n",
      "\t\tplev:units = \"hPa\" ;\n",
      "\t\tplev:axis = \"Z\" ;\n",
      "\t\tplev:standard_name = \"pressure level\" ;\n",
      "\tfloat lat(lat) ;\n",
      "\t\tlat:long_name = \"latitude\" ;\n",
      "\t\tlat:units = \"degN\" ;\n",
      "\t\tlat:axis = \"Y\" ;\n",
      "\t\tlat:standard_name = \"latitude\" ;\n",
      "\tfloat lon(lon) ;\n",
      "\t\tlon:long_name = \"longitude\" ;\n",
      "\t\tlon:units = \"degE\" ;\n",
      "\t\tlon:axis = \"X\" ;\n",
      "\t\tlon:standard_name = \"longitude\" ;\n",
      "\tdouble u(time, plev, lat, lon) ;\n",
      "\t\tu:long_name = \"zonal wind\" ;\n",
      "\t\tu:units = \"m/s\" ;\n",
      "\tdouble v(time, plev, lat, lon) ;\n",
      "\t\tv:long_name = \"meridional wind\" ;\n",
      "\t\tv:units = \"m/s\" ;\n",
      "\tdouble t(time, plev, lat, lon) ;\n",
      "\t\tt:long_name = \"temperature\" ;\n",
      "\t\tt:units = \"K\" ;\n",
      "}\n"
     ]
    }
   ],
   "source": [
    "%%bash\n",
    "ncdump -h data/atmosphere.nc"
   ]
  },
  {
   "cell_type": "code",
   "execution_count": 25,
   "id": "20c33243-22a6-4a63-bbf0-77d4b0146708",
   "metadata": {},
   "outputs": [],
   "source": [
    "%%bash\n",
    "ncap2 -O -v -s '\n",
    "  emf = ((u - u.avg($lon)) * (v - v.avg($lon))).avg($lon);\n",
    "  ehf = ((t - t.avg($lon)) * (v - v.avg($lon))).avg($lon);\n",
    "  ' data/atmosphere.nc data/atmosphere_nco.nc\n",
    "ncatted data/atmosphere_nco.nc \\\n",
    "    -a long_name,ehf,m,c,'eddy heat flux' \\\n",
    "    -a units,ehf,m,c,'K m / s' \\\n",
    "    -a long_name,emf,m,c,'eddy momentum flux' \\\n",
    "    -a units,emf,m,c,'m^2 / s'"
   ]
  },
  {
   "cell_type": "code",
   "execution_count": 26,
   "id": "122df695-735b-409b-8b3b-494395046f49",
   "metadata": {},
   "outputs": [
    {
     "name": "stdout",
     "output_type": "stream",
     "text": [
      "netcdf atmosphere_nco {\n",
      "dimensions:\n",
      "\ttime = UNLIMITED ; // (200 currently)\n",
      "\tplev = 60 ;\n",
      "\tlat = 6 ;\n",
      "\tlon = 12 ;\n",
      "variables:\n",
      "\tdouble emf(time, plev, lat) ;\n",
      "\t\temf:long_name = \"eddy momentum flux\" ;\n",
      "\t\temf:units = \"m^2 / s\" ;\n",
      "\tdouble ehf(time, plev, lat) ;\n",
      "\t\tehf:long_name = \"eddy heat flux\" ;\n",
      "\t\tehf:units = \"K m / s\" ;\n",
      "\tfloat time(time) ;\n",
      "\t\ttime:long_name = \"time\" ;\n",
      "\t\ttime:calendar = \"360_day\" ;\n",
      "\t\ttime:units = \"days since 00-01-01 00:00:00\" ;\n",
      "\t\ttime:axis = \"T\" ;\n",
      "\t\ttime:standard_name = \"time\" ;\n",
      "\tfloat plev(plev) ;\n",
      "\t\tplev:long_name = \"pressure level\" ;\n",
      "\t\tplev:units = \"hPa\" ;\n",
      "\t\tplev:axis = \"Z\" ;\n",
      "\t\tplev:standard_name = \"pressure level\" ;\n",
      "\tfloat lat(lat) ;\n",
      "\t\tlat:long_name = \"latitude\" ;\n",
      "\t\tlat:units = \"degN\" ;\n",
      "\t\tlat:axis = \"Y\" ;\n",
      "\t\tlat:standard_name = \"latitude\" ;\n",
      "\tfloat lon(lon) ;\n",
      "\t\tlon:long_name = \"longitude\" ;\n",
      "\t\tlon:units = \"degE\" ;\n",
      "\t\tlon:axis = \"X\" ;\n",
      "\t\tlon:standard_name = \"longitude\" ;\n",
      "\n",
      "// global attributes:\n",
      "\t\t:history = \"Sat Jun 12 13:42:52 2021: ncatted data/atmosphere_nco.nc -a long_name,ehf,m,c,eddy heat flux -a units,ehf,m,c,K m / s -a long_name,emf,m,c,eddy momentum flux -a units,emf,m,c,m^2 / s\\n\",\n",
      "\t\t\t\"Sat Jun 12 13:42:51 2021: ncap2 -O -v -s \\n\",\n",
      "\t\t\t\"  emf = ((u - u.avg($lon)) * (v - v.avg($lon))).avg($lon);\\n\",\n",
      "\t\t\t\"  ehf = ((t - t.avg($lon)) * (v - v.avg($lon))).avg($lon);\\n\",\n",
      "\t\t\t\"   data/atmosphere.nc data/atmosphere_nco.nc\" ;\n",
      "\t\t:NCO = \"netCDF Operators version 4.9.9 (Homepage = http://nco.sf.net, Code = http://github.com/nco/nco)\" ;\n",
      "}\n"
     ]
    }
   ],
   "source": [
    "%%bash\n",
    "ncdump -h data/atmosphere_nco.nc"
   ]
  },
  {
   "cell_type": "markdown",
   "id": "03dae1b5",
   "metadata": {},
   "source": [
    "## CDO\n"
   ]
  },
  {
   "cell_type": "markdown",
   "id": "4aa8bd94",
   "metadata": {},
   "source": [
    "- Developed by the Max Planck Institute for Meteorology.\n",
    "- Sleeker and more \"modern\" NetCDf tool.\n",
    "- Consists of a single command-line command `cdo` but with [hundreds of subcommands](https://code.mpimet.mpg.de/projects/cdo/wiki/Tutorial#Basic-Usage).\n",
    "- Inclues a game-changer \"[operator chaining](https://code.mpimet.mpg.de/projects/cdo/embedded/index.html#x1-120001.2.6)\" feature.\n",
    "- Powered by C++ with built-in parallelization, so this tends to be faster\n",
    "- The only major caveat: Your data must fit a rigid format, with 2 horizontal dimensions, an optional vertical dimension, and an optional time dimension.\n",
    "- CDO must be able to infer these dimensions based on the attributes (using the [CF-standards for coordinates](http://cfconventions.org/cf-conventions/cf-conventions.html#coordinate-types)).\n",
    "\n",
    "\n",
    "CDO has useful file-inspection utilities you should know about:\n",
    "\n",
    "- `griddes` displays the horizontal \"grids\" interpreted by the CDO engine and used by functions like `fldmean`.\n",
    "- `zaxisdes` displays the vertical \"axes\" interpreted by the CDO engine.\n",
    "- `infon` and `sinfon` summarize data variable contents in a nice table."
   ]
  },
  {
   "cell_type": "markdown",
   "id": "4b8e4a64",
   "metadata": {},
   "source": [
    "Here's a quick survey of CDO's subcommands, with examples:\n",
    "\n",
    "- Regrid from one arbitrary grid (e.g. rotated pole, hexagonal cells) to another (you can choose from a suite of algorithms).\n",
    "\n",
    "```\n",
    "cdo remapcon,destination_grid.txt in.nc out.nc\n",
    "```\n",
    "\n",
    "- Interpolate to different vertical; levels:\n",
    "\n",
    "```\n",
    "cdo intlevel,1000,900,800,700,600,500,400,300,200 in.nc out.nc\n",
    "```\n",
    "\n",
    "- Linear least-squares trendline, ignoring missing values:\n",
    "\n",
    "```\n",
    "cdo regres -seldate,1980-01-01T00:00:00,2009-12-31T23:59:59 in.nc out.nc\n",
    "```\n",
    "\n",
    "- Monthly daily and seasonal statistics:\n",
    "\n",
    "```\n",
    "cdo ymonmean in.nc climate.nc\n",
    "```\n",
    "\n",
    "- Spatial operations:\n",
    "\n",
    "```\n",
    "cdo zonmean in.nc out.nc  # zonal average\n",
    "cdo fldmean in .nc out.nc  # global average\n",
    "cdo mulc,101325 -vertmean -genlevelbounds  # vertical integral\n",
    "```\n",
    "\n",
    "- Spatial empirical orthogonal functions\n",
    "\n",
    "```\n",
    "cdo eof,10 file.nc evals.nc evecs.nc\n",
    "```\n",
    "\n",
    "- Summary statistics for your file:\n",
    "\n",
    "```\n",
    "cdo infon -selname,t -seltimestep,1 file.nc\n",
    "```"
   ]
  },
  {
   "cell_type": "markdown",
   "id": "5a1968a9-7c0f-4315-a3c2-42e8f9fb853e",
   "metadata": {},
   "source": [
    "I recommend CDO for complex operations and whenever the `input_file.nc --> output_file.nc` workflow is appropriate.\n",
    "\n",
    "The following example does the same as the above netCDF4 example (note much less code):"
   ]
  },
  {
   "cell_type": "code",
   "execution_count": 27,
   "id": "faff12ad-f841-4975-ad83-b0fa0f70b648",
   "metadata": {},
   "outputs": [
    {
     "name": "stdout",
     "output_type": "stream",
     "text": [
      "netcdf atmosphere {\n",
      "dimensions:\n",
      "\ttime = UNLIMITED ; // (200 currently)\n",
      "\tplev = 60 ;\n",
      "\tlat = 6 ;\n",
      "\tlon = 12 ;\n",
      "variables:\n",
      "\tfloat time(time) ;\n",
      "\t\ttime:long_name = \"time\" ;\n",
      "\t\ttime:calendar = \"360_day\" ;\n",
      "\t\ttime:units = \"days since 00-01-01 00:00:00\" ;\n",
      "\t\ttime:axis = \"T\" ;\n",
      "\t\ttime:standard_name = \"time\" ;\n",
      "\tfloat plev(plev) ;\n",
      "\t\tplev:long_name = \"pressure level\" ;\n",
      "\t\tplev:units = \"hPa\" ;\n",
      "\t\tplev:axis = \"Z\" ;\n",
      "\t\tplev:standard_name = \"pressure level\" ;\n",
      "\tfloat lat(lat) ;\n",
      "\t\tlat:long_name = \"latitude\" ;\n",
      "\t\tlat:units = \"degN\" ;\n",
      "\t\tlat:axis = \"Y\" ;\n",
      "\t\tlat:standard_name = \"latitude\" ;\n",
      "\tfloat lon(lon) ;\n",
      "\t\tlon:long_name = \"longitude\" ;\n",
      "\t\tlon:units = \"degE\" ;\n",
      "\t\tlon:axis = \"X\" ;\n",
      "\t\tlon:standard_name = \"longitude\" ;\n",
      "\tdouble u(time, plev, lat, lon) ;\n",
      "\t\tu:long_name = \"zonal wind\" ;\n",
      "\t\tu:units = \"m/s\" ;\n",
      "\tdouble v(time, plev, lat, lon) ;\n",
      "\t\tv:long_name = \"meridional wind\" ;\n",
      "\t\tv:units = \"m/s\" ;\n",
      "\tdouble t(time, plev, lat, lon) ;\n",
      "\t\tt:long_name = \"temperature\" ;\n",
      "\t\tt:units = \"K\" ;\n",
      "}\n"
     ]
    }
   ],
   "source": [
    "%%bash\n",
    "ncdump -h data/atmosphere.nc"
   ]
  },
  {
   "cell_type": "code",
   "execution_count": 30,
   "id": "8676d3b6-4003-41b8-8178-4d87c9712d09",
   "metadata": {},
   "outputs": [
    {
     "name": "stderr",
     "output_type": "stream",
     "text": [
      "cdo    expr: Processed 2592000 values from 3 variables over 200 timesteps [0.23s 16MB].\n"
     ]
    }
   ],
   "source": [
    "%%bash\n",
    "cdo -O -expr,'\n",
    "  ehf = zonmean((t - zonmean(t))*(v - zonmean(v)));\n",
    "  emf = zonmean((u - zonmean(u))*(v - zonmean(v)));\n",
    "  ' data/atmosphere.nc data/atmosphere_cdo.nc"
   ]
  },
  {
   "cell_type": "code",
   "execution_count": 31,
   "id": "17c74392-f7e0-4275-9d5f-3b79dfdf8356",
   "metadata": {},
   "outputs": [
    {
     "name": "stdout",
     "output_type": "stream",
     "text": [
      "netcdf atmosphere_cdo {\n",
      "dimensions:\n",
      "\ttime = UNLIMITED ; // (200 currently)\n",
      "\tlon = 1 ;\n",
      "\tlat = 6 ;\n",
      "\tplev = 60 ;\n",
      "variables:\n",
      "\tfloat time(time) ;\n",
      "\t\ttime:standard_name = \"time\" ;\n",
      "\t\ttime:long_name = \"time\" ;\n",
      "\t\ttime:units = \"days since 00-01-01 00:00:00\" ;\n",
      "\t\ttime:calendar = \"360_day\" ;\n",
      "\t\ttime:axis = \"T\" ;\n",
      "\tdouble lon(lon) ;\n",
      "\t\tlon:standard_name = \"longitude\" ;\n",
      "\t\tlon:long_name = \"longitude\" ;\n",
      "\t\tlon:units = \"degrees_east\" ;\n",
      "\t\tlon:axis = \"X\" ;\n",
      "\tdouble lat(lat) ;\n",
      "\t\tlat:standard_name = \"latitude\" ;\n",
      "\t\tlat:long_name = \"latitude\" ;\n",
      "\t\tlat:units = \"degrees_north\" ;\n",
      "\t\tlat:axis = \"Y\" ;\n",
      "\tfloat plev(plev) ;\n",
      "\t\tplev:standard_name = \"pressure level\" ;\n",
      "\t\tplev:long_name = \"pressure level\" ;\n",
      "\t\tplev:units = \"hPa\" ;\n",
      "\t\tplev:positive = \"down\" ;\n",
      "\t\tplev:axis = \"Z\" ;\n",
      "\tfloat ehf(time, plev, lat, lon) ;\n",
      "\t\tehf:_FillValue = -9.e+33f ;\n",
      "\t\tehf:missing_value = -9.e+33f ;\n",
      "\tfloat emf(time, plev, lat, lon) ;\n",
      "\t\temf:_FillValue = -9.e+33f ;\n",
      "\t\temf:missing_value = -9.e+33f ;\n",
      "\n",
      "// global attributes:\n",
      "\t\t:CDI = \"Climate Data Interface version 1.9.10 (https://mpimet.mpg.de/cdi)\" ;\n",
      "\t\t:Conventions = \"CF-1.6\" ;\n",
      "\t\t:history = \"Sat Jun 12 13:48:27 2021: cdo -O -expr,\\n\",\n",
      "\t\t\t\"  ehf = zonmean((t - zonmean(t))*(v - zonmean(v)));\\n\",\n",
      "\t\t\t\"  emf = zonmean((u - zonmean(u))*(v - zonmean(v)));\\n\",\n",
      "\t\t\t\"   data/atmosphere.nc data/atmosphere_cdo.nc\" ;\n",
      "\t\t:CDO = \"Climate Data Operators version 1.9.10 (https://mpimet.mpg.de/cdo)\" ;\n",
      "}\n"
     ]
    }
   ],
   "source": [
    "%%bash\n",
    "ncdump -h data/atmosphere_cdo.nc"
   ]
  },
  {
   "cell_type": "markdown",
   "id": "f95f198f",
   "metadata": {},
   "source": [
    "# Python tools"
   ]
  },
  {
   "cell_type": "markdown",
   "id": "8ea5eb9b",
   "metadata": {},
   "source": [
    "Next, the python tools:\n",
    "\n",
    "- [netCDF4](https://unidata.github.io/netcdf4-python/)\n",
    "- [xarray](http://xarray.pydata.org/en/stable/)\n",
    "- [iris \"cubes\"](https://scitools.org.uk/iris/docs/v1.13.0/userguide/loading_iris_cubes.html) -- this tool is older, less widely used, falling out of favor (xarray was built as an [improvement on \"cubes\"](http://xarray.pydata.org/en/stable/getting-started-guide/faq.html#what-other-netcdf-related-python-libraries-should-i-know-about)).  \n",
    "- [cf-python](https://github.com/NCAS-CMS/cf-python) -- this tool is not widely used.\n",
    "\n",
    "We will focus on the two most widely used tools, netCDF4 and xarray."
   ]
  },
  {
   "cell_type": "markdown",
   "id": "a987845d",
   "metadata": {},
   "source": [
    "## netCDF4"
   ]
  },
  {
   "cell_type": "markdown",
   "id": "05aa0ec9",
   "metadata": {},
   "source": [
    "- The more \"low-level\" tool (requires more lines of code).\n",
    "- Generally the fastest tool (unless you are using dask on a supercomputer -- see below).\n",
    "- Used *internally* in the xarray source code.\n",
    "- Includes very basic `Dataset` and `Variable` classes representing NetCDF files and NetCDf variables (respectively).\n",
    "- The classes are used mainly to load variables into `numpy` arrays -- they do **cannot** interpret CF standards or apply `add_offset` or `scale_factor`.\n",
    "- To create new NetCDF files, you must use an arcane and counter-intuitive API. Lots of bookkeeping.\n",
    "- **Warning**: Confusingly, \"netCDF4\" works with both NetCDF versions 3 and 4! \n",
    "\n"
   ]
  },
  {
   "cell_type": "markdown",
   "id": "27a7670a-0b89-4d83-96aa-a989d66c690c",
   "metadata": {},
   "source": [
    "I recommend using netCDF4 only if you have a very specific reason to use it over xarray (e.g., running calculations on many many small files on a laptop or individual server).\n",
    "\n",
    "The following example reads XYZT temperature and wind data, then saves YZT \"eddy heat flux\"."
   ]
  },
  {
   "cell_type": "code",
   "execution_count": 11,
   "id": "43cdcd7a-0152-4eea-8cab-43428cbf5493",
   "metadata": {
    "tags": []
   },
   "outputs": [
    {
     "name": "stdout",
     "output_type": "stream",
     "text": [
      "netcdf atmosphere {\n",
      "dimensions:\n",
      "\ttime = UNLIMITED ; // (200 currently)\n",
      "\tplev = 60 ;\n",
      "\tlat = 6 ;\n",
      "\tlon = 12 ;\n",
      "variables:\n",
      "\tfloat time(time) ;\n",
      "\t\ttime:long_name = \"time\" ;\n",
      "\t\ttime:calendar = \"360_day\" ;\n",
      "\t\ttime:units = \"days since 00-01-01 00:00:00\" ;\n",
      "\t\ttime:axis = \"T\" ;\n",
      "\t\ttime:standard_name = \"time\" ;\n",
      "\tfloat plev(plev) ;\n",
      "\t\tplev:long_name = \"pressure level\" ;\n",
      "\t\tplev:units = \"hPa\" ;\n",
      "\t\tplev:axis = \"Z\" ;\n",
      "\t\tplev:standard_name = \"pressure level\" ;\n",
      "\tfloat lat(lat) ;\n",
      "\t\tlat:long_name = \"latitude\" ;\n",
      "\t\tlat:units = \"degN\" ;\n",
      "\t\tlat:axis = \"Y\" ;\n",
      "\t\tlat:standard_name = \"latitude\" ;\n",
      "\tfloat lon(lon) ;\n",
      "\t\tlon:long_name = \"longitude\" ;\n",
      "\t\tlon:units = \"degE\" ;\n",
      "\t\tlon:axis = \"X\" ;\n",
      "\t\tlon:standard_name = \"longitude\" ;\n",
      "\tdouble u(time, plev, lat, lon) ;\n",
      "\t\tu:long_name = \"zonal wind\" ;\n",
      "\t\tu:units = \"m/s\" ;\n",
      "\tdouble v(time, plev, lat, lon) ;\n",
      "\t\tv:long_name = \"meridional wind\" ;\n",
      "\t\tv:units = \"m/s\" ;\n",
      "\tdouble t(time, plev, lat, lon) ;\n",
      "\t\tt:long_name = \"temperature\" ;\n",
      "\t\tt:units = \"K\" ;\n",
      "}\n"
     ]
    }
   ],
   "source": [
    "%%bash\n",
    "ncdump -h data/atmosphere.nc"
   ]
  },
  {
   "cell_type": "code",
   "execution_count": 18,
   "id": "2cbebe8a",
   "metadata": {},
   "outputs": [
    {
     "name": "stderr",
     "output_type": "stream",
     "text": [
      "<ipython-input-18-4692d7157d88>:27: DeprecationWarning: tostring() is deprecated. Use tobytes() instead.\n",
      "  time_attrs = {attr: time_var.getncattr(attr) for attr in time_var.ncattrs()}\n",
      "<ipython-input-18-4692d7157d88>:28: DeprecationWarning: tostring() is deprecated. Use tobytes() instead.\n",
      "  plev_attrs = {attr: plev_var.getncattr(attr) for attr in plev_var.ncattrs()}\n",
      "<ipython-input-18-4692d7157d88>:29: DeprecationWarning: tostring() is deprecated. Use tobytes() instead.\n",
      "  lat_attrs = {attr: lat_var.getncattr(attr) for attr in lat_var.ncattrs()}\n"
     ]
    }
   ],
   "source": [
    "import os\n",
    "import sys\n",
    "import netCDF4 as nc4\n",
    "\n",
    "# Open file\n",
    "getattrs = lambda obj: {key: val for key, val in obj.__dict__.items() if key[:1] != '_'}\n",
    "with nc4.Dataset('data/atmosphere.nc', 'r') as f:\n",
    "    # Get dimensions\n",
    "    time_var = f['time']\n",
    "    plev_var = f['plev']\n",
    "    lon_var = f['lon']\n",
    "    lat_var = f['lat']\n",
    "    time = time_var[:]\n",
    "    plev = plev_var[:]\n",
    "    lon = lon_var[:]\n",
    "    lat = lat_var[:]\n",
    "\n",
    "    # Get numpy arrays\n",
    "    u_var = f['u']\n",
    "    v_var = f['v']\n",
    "    t_var = f['t']\n",
    "    u = u_var[:]\n",
    "    v = v_var[:]\n",
    "    t = t_var[:]\n",
    "\n",
    "    # Get attributes\n",
    "    time_attrs = {attr: time_var.getncattr(attr) for attr in time_var.ncattrs()}\n",
    "    plev_attrs = {attr: plev_var.getncattr(attr) for attr in plev_var.ncattrs()}\n",
    "    lat_attrs = {attr: lat_var.getncattr(attr) for attr in lat_var.ncattrs()}\n",
    "\n",
    "# Calculations\n",
    "emf = ((u - u.mean(axis=-1, keepdims=True)) * (v - v.mean(axis=-1, keepdims=True))).mean(axis=-1)\n",
    "ehf = ((t - t.mean(axis=-1, keepdims=True)) * (v - v.mean(axis=-1, keepdims=True))).mean(axis=-1)\n",
    "\n",
    "# Save file\n",
    "with nc4.Dataset('data/atmosphere_netcdf4.nc', 'w') as f:\n",
    "    # Make dimensions\n",
    "    # NOTE: This is very similar syntax to low-level C and Fortran libs\n",
    "    f.createDimension('time', None)\n",
    "    f.createDimension('plev', plev.size)\n",
    "    f.createDimension('lat', lat.size)\n",
    "\n",
    "    # Make coordinate Variables\n",
    "    time_var = f.createVariable('time', 'f8', ('time',))\n",
    "    plev_var = f.createVariable('plev', 'f8', ('plev',))\n",
    "    lat_var = f.createVariable('lat', 'f8', ('lat',))\n",
    "    for var, dict_ in ((time_var, time_attrs), (plev_var, plev_attrs), (lat_var, lat_attrs)):\n",
    "        for key, value in dict_.items():\n",
    "            setattr(var, key, value)\n",
    "\n",
    "    # Make data Variables\n",
    "    ehf_var = f.createVariable('ehf', 'f8', ('time', 'plev', 'lat',))\n",
    "    emf_var = f.createVariable('emf', 'f8', ('time', 'plev', 'lat',))\n",
    "    for var, dict_ in (\n",
    "        (emf_var, {'long_name': 'eddy momentum flux', 'units': 'm**2/s**2'}),\n",
    "        (ehf_var, {'long_name': 'eddy heat flux', 'units': 'K*m/s'}),\n",
    "    ):\n",
    "        for key, value in dict_.items():\n",
    "            setattr(var, key, value)\n",
    "\n",
    "    # Write numpy arrays to Variables\n",
    "    time_var[:] = time\n",
    "    plev_var[:] = plev\n",
    "    lat_var[:] = lat\n",
    "    ehf_var[:] = ehf\n",
    "    emf_var[:] = emf"
   ]
  },
  {
   "cell_type": "code",
   "execution_count": 19,
   "id": "68bf9449-21ab-4bcb-9683-b64965c0a60a",
   "metadata": {},
   "outputs": [
    {
     "name": "stdout",
     "output_type": "stream",
     "text": [
      "netcdf atmosphere_netcdf4 {\n",
      "dimensions:\n",
      "\ttime = UNLIMITED ; // (200 currently)\n",
      "\tplev = 60 ;\n",
      "\tlat = 6 ;\n",
      "variables:\n",
      "\tdouble time(time) ;\n",
      "\t\ttime:long_name = \"time\" ;\n",
      "\t\ttime:calendar = \"360_day\" ;\n",
      "\t\ttime:units = \"days since 00-01-01 00:00:00\" ;\n",
      "\t\ttime:axis = \"T\" ;\n",
      "\t\ttime:standard_name = \"time\" ;\n",
      "\tdouble plev(plev) ;\n",
      "\t\tplev:long_name = \"pressure level\" ;\n",
      "\t\tplev:units = \"hPa\" ;\n",
      "\t\tplev:axis = \"Z\" ;\n",
      "\t\tplev:standard_name = \"pressure level\" ;\n",
      "\tdouble lat(lat) ;\n",
      "\t\tlat:long_name = \"latitude\" ;\n",
      "\t\tlat:units = \"degN\" ;\n",
      "\t\tlat:axis = \"Y\" ;\n",
      "\t\tlat:standard_name = \"latitude\" ;\n",
      "\tdouble ehf(time, plev, lat) ;\n",
      "\t\tehf:long_name = \"eddy heat flux\" ;\n",
      "\t\tehf:units = \"K*m/s\" ;\n",
      "\tdouble emf(time, plev, lat) ;\n",
      "\t\temf:long_name = \"eddy momentum flux\" ;\n",
      "\t\temf:units = \"m**2/s**2\" ;\n",
      "}\n"
     ]
    }
   ],
   "source": [
    "%%bash\n",
    "ncdump -h data/atmosphere_netcdf4.nc"
   ]
  },
  {
   "cell_type": "markdown",
   "id": "a8f74749",
   "metadata": {},
   "source": [
    "## xarray "
   ]
  },
  {
   "cell_type": "markdown",
   "id": "472d1bb8",
   "metadata": {},
   "source": [
    "* The more \"high-level\" tool (requires fewer lines of code).\n",
    "* The \"new kid\" on the block but *extremely* powerful.\n",
    "* Includes very fancy `Dataset` and `DataArray` classes representing NetCDF files and NetCDF variables, respectively.\n",
    "* Classes are easy-to-use and include hundreds of useful methods.\n",
    "* The `DataArray` class acts as a sort-of wrapper on `numpy` arrays.\n",
    "* Xarray can interpret [CF conventions](https://cfconventions.org), including [automatically applying](http://xarray.pydata.org/en/stable/generated/xarray.open_dataset.html) `add_offset`, `scale_factor`, and `_FillValue`.\n",
    "* Generally slower, unless you are using a supercomputer and combine xarray with [dask-powered parallel computing](http://xarray.pydata.org/en/stable/user-guide/dask.html).\n",
    "\n",
    "I recommend using xarray most of the time.\n",
    "\n",
    "The following example does the same as the above netCDF4 example (note much less code):"
   ]
  },
  {
   "cell_type": "code",
   "execution_count": 8,
   "id": "bf078f14-686d-4466-9acd-e66c86f7e789",
   "metadata": {},
   "outputs": [
    {
     "name": "stdout",
     "output_type": "stream",
     "text": [
      "netcdf atmosphere {\n",
      "dimensions:\n",
      "\ttime = UNLIMITED ; // (200 currently)\n",
      "\tplev = 60 ;\n",
      "\tlat = 6 ;\n",
      "\tlon = 12 ;\n",
      "variables:\n",
      "\tfloat time(time) ;\n",
      "\t\ttime:long_name = \"time\" ;\n",
      "\t\ttime:calendar = \"360_day\" ;\n",
      "\t\ttime:units = \"days since 00-01-01 00:00:00\" ;\n",
      "\t\ttime:axis = \"T\" ;\n",
      "\t\ttime:standard_name = \"time\" ;\n",
      "\tfloat plev(plev) ;\n",
      "\t\tplev:long_name = \"pressure level\" ;\n",
      "\t\tplev:units = \"hPa\" ;\n",
      "\t\tplev:axis = \"Z\" ;\n",
      "\t\tplev:standard_name = \"pressure level\" ;\n",
      "\tfloat lat(lat) ;\n",
      "\t\tlat:long_name = \"latitude\" ;\n",
      "\t\tlat:units = \"degN\" ;\n",
      "\t\tlat:axis = \"Y\" ;\n",
      "\t\tlat:standard_name = \"latitude\" ;\n",
      "\tfloat lon(lon) ;\n",
      "\t\tlon:long_name = \"longitude\" ;\n",
      "\t\tlon:units = \"degE\" ;\n",
      "\t\tlon:axis = \"X\" ;\n",
      "\t\tlon:standard_name = \"longitude\" ;\n",
      "\tdouble u(time, plev, lat, lon) ;\n",
      "\t\tu:long_name = \"zonal wind\" ;\n",
      "\t\tu:units = \"m/s\" ;\n",
      "\tdouble v(time, plev, lat, lon) ;\n",
      "\t\tv:long_name = \"meridional wind\" ;\n",
      "\t\tv:units = \"m/s\" ;\n",
      "\tdouble t(time, plev, lat, lon) ;\n",
      "\t\tt:long_name = \"temperature\" ;\n",
      "\t\tt:units = \"K\" ;\n",
      "}\n"
     ]
    }
   ],
   "source": [
    "%%bash\n",
    "ncdump -h data/atmosphere.nc"
   ]
  },
  {
   "cell_type": "code",
   "execution_count": 13,
   "id": "50f199dd",
   "metadata": {},
   "outputs": [],
   "source": [
    "import os\n",
    "import sys\n",
    "import xarray as xr\n",
    "\n",
    "# Open dataset\n",
    "ds = xr.open_dataset('data/atmosphere.nc', decode_times=False)\n",
    "\n",
    "# Next perform calculations\n",
    "emf = ((ds.u - ds.u.mean('lon')) * (ds.v - ds.v.mean('lon'))).mean('lon')\n",
    "ehf = ((ds.t - ds.t.mean('lon')) * (ds.v - ds.v.mean('lon'))).mean('lon')\n",
    "emf.name = 'emf'\n",
    "ehf.name = 'ehf'\n",
    "emf.attrs = {'long_name': 'eddy momentum flux', 'units': 'm**2/s**2'}\n",
    "ehf.attrs = {'long_name': 'eddy heat flux', 'units': 'K*m/s'}\n",
    "\n",
    "# Save file\n",
    "ds = xr.Dataset({'emf': emf, 'ehf': ehf})\n",
    "ds.to_netcdf('data/atmosphere_xarray.nc', mode='w')"
   ]
  },
  {
   "cell_type": "code",
   "execution_count": 10,
   "id": "c7b1b4fe-7d99-4337-a86f-6272eed45a20",
   "metadata": {},
   "outputs": [
    {
     "name": "stdout",
     "output_type": "stream",
     "text": [
      "netcdf xarray_output {\n",
      "dimensions:\n",
      "\ttime = 200 ;\n",
      "\tplev = 60 ;\n",
      "\tlat = 6 ;\n",
      "variables:\n",
      "\tfloat time(time) ;\n",
      "\t\ttime:_FillValue = NaNf ;\n",
      "\t\ttime:long_name = \"time\" ;\n",
      "\t\ttime:calendar = \"360_day\" ;\n",
      "\t\ttime:units = \"days since 00-01-01 00:00:00\" ;\n",
      "\t\ttime:axis = \"T\" ;\n",
      "\t\ttime:standard_name = \"time\" ;\n",
      "\tfloat plev(plev) ;\n",
      "\t\tplev:_FillValue = NaNf ;\n",
      "\t\tplev:long_name = \"pressure level\" ;\n",
      "\t\tplev:units = \"hPa\" ;\n",
      "\t\tplev:axis = \"Z\" ;\n",
      "\t\tplev:standard_name = \"pressure level\" ;\n",
      "\tfloat lat(lat) ;\n",
      "\t\tlat:_FillValue = NaNf ;\n",
      "\t\tlat:long_name = \"latitude\" ;\n",
      "\t\tlat:units = \"degN\" ;\n",
      "\t\tlat:axis = \"Y\" ;\n",
      "\t\tlat:standard_name = \"latitude\" ;\n",
      "\tdouble emf(time, plev, lat) ;\n",
      "\t\temf:_FillValue = NaN ;\n",
      "\t\temf:long_name = \"eddy momentum flux\" ;\n",
      "\t\temf:units = \"m**2/s**2\" ;\n",
      "\tdouble ehf(time, plev, lat) ;\n",
      "\t\tehf:_FillValue = NaN ;\n",
      "\t\tehf:long_name = \"eddy heat flux\" ;\n",
      "\t\tehf:units = \"K*m/s\" ;\n",
      "}\n"
     ]
    }
   ],
   "source": [
    "%%bash\n",
    "ncdump -h data/atmosphere_xarray.nc"
   ]
  },
  {
   "cell_type": "markdown",
   "id": "feb4bc98",
   "metadata": {},
   "source": [
    "# Other tools"
   ]
  },
  {
   "cell_type": "markdown",
   "id": "316b3690",
   "metadata": {},
   "source": [
    "## MATLAB"
   ]
  },
  {
   "cell_type": "markdown",
   "id": "c43e013d",
   "metadata": {},
   "source": [
    "If possible, I recommend against using [MATLAB](https://www.mathworks.com/products/matlab.html).\n",
    "\n",
    "MATLAB's syntax is convenient, but python has many useful tools that have no MATLAB equivalent (e.g., dask, xarray, jupyter, metpy). Python is also open source and has a massive community, which helps with debugging code and developing even more useful tools.\n",
    "\n",
    "If you know MATLAB but don't know python, an REU internship is a great time to learn (that's how I did it!).\n",
    "\n",
    "If you really need to use MATLAB (for example, you will be working from MATLAB scripts provided by your advisor), more information on MATLAB's NetCDF utilities can be found [here](https://www.mathworks.com/help/matlab/network-common-data-form.html)."
   ]
  },
  {
   "cell_type": "markdown",
   "id": "ef2646cd",
   "metadata": {},
   "source": [
    "## Julia"
   ]
  },
  {
   "cell_type": "markdown",
   "id": "8f42af2d",
   "metadata": {},
   "source": [
    "If possible, I also recommend against the [Julia language](https://julialang.org/) for the time being.\n",
    "\n",
    "Julia's NetCDF tools are currently not as advanced as python, and the community is relatively small. The Julia language is a really awesome idea, and I'm excited about it! But I don't think Julia has proved itself as being worthy for us to jump ship from python yet.\n",
    "\n",
    "If you disagree, the two major NetCDF-processing tools in Julia are [NetCDF.jl](https://github.com/JuliaGeo/NetCDF.jl) (for MATLAB-style syntax) and [NCDatasets.jl](https://github.com/Alexander-Barth/NCDatasets.jl) (for python's xarray-style syntax)."
   ]
  },
  {
   "cell_type": "markdown",
   "id": "e91bed9a",
   "metadata": {},
   "source": [
    "## NCL"
   ]
  },
  {
   "cell_type": "markdown",
   "id": "c7c430e3",
   "metadata": {},
   "source": [
    "A final tool I didn't mention is [NCL](https://www.ncl.ucar.edu) (the NCAR Command\n",
    "Language). This is one of my favorites!\n",
    "\n",
    "-   MATLAB: Everything is an array.\n",
    "\n",
    "-   Python: Everything is an object (or dictionary, depending on who you\n",
    "    ask).\n",
    "\n",
    "-   NCL: Everything is a NetCDF-formatted dataset. If you're a\n",
    "    geoscientist, this paradigm is pretty awesome.\n",
    "\n",
    "Sadly, in 2021 you should **avoid using NCL** for two reasons:\n",
    "\n",
    "-   NCL [is being\n",
    "    deprecated](https://www.ncl.ucar.edu/Document/Pivot_to_Python/september_2019_update.shtml)\n",
    "    (Unidata developers are now focusing on python tools).\n",
    "\n",
    "-   As \"cool\" as NCL is, it is very slow... among the slowest tools (see [these\n",
    "    benchmark results](https://github.com/lukelbd/atmos-benchmarks)).\n",
    "    \n",
    "In case you do need to use it, the following example reads XYZT temperature and wind data, then saves YZT \"eddy heat\n",
    "flux\"."
   ]
  },
  {
   "cell_type": "code",
   "execution_count": null,
   "id": "e4f9f323-c7e1-4449-acce-f0229d013fd1",
   "metadata": {},
   "outputs": [],
   "source": [
    "%%bash\n",
    "cat fluxes.ncl\n",
    "rm data/fluxes_output.nc 2>/dev/null\n",
    "ncl fluxes.ncl\n",
    "ncdump -h data/atmosphere.nc"
   ]
  },
  {
   "cell_type": "markdown",
   "id": "dee8d8bf",
   "metadata": {},
   "source": [
    "The `fluxes.ncl` script contains the following:\n",
    "\n",
    "```\n",
    "; Sample NCL file\n",
    "; This is a comment\n",
    "f = addfile(\"data/fluxes_input.nc\", \"r\")\n",
    "o = addfile(\"data/fluxes_output.nc\", \"c\")\n",
    "t = f->t\n",
    "v = f->v\n",
    "tstar = t - conform(t, dim_avg_n(t, 3), (/0, 1, 2/))  ; zonal temperature anomaly\n",
    "vstar = v - conform(v, dim_avg_n(v, 3), (/0, 1, 2/))  ; zonal meridional-wind anomaly\n",
    "ehf = dim_avg_n(tstar * vstar, 3)  ; eddy heat flux\n",
    "copy_VarCoords(t(:, :, :, 0), ehf)\n",
    "ehf@long_name = \"eddy heat flux\"\n",
    "ehf@units = \"K*m/s\"\n",
    "o->ehf = ehf\n",
    "```\n",
    "\n",
    "Running `ncl fluxes.ncl` will show the following (will not work inside this notebook).\n",
    "```\n",
    "Variable: t\n",
    "Type: double\n",
    "Total Size: 6912000 bytes\n",
    "            864000 values\n",
    "Number of Dimensions: 4\n",
    "Dimensions and sizes:\t[time | 200] x [plev | 60] x [lat | 6] x [lon | 12]\n",
    "Coordinates: \n",
    "            time: [0.25..99.75]\n",
    "            plev: [8.44375..1004.806]\n",
    "            lat: [-75..75]\n",
    "            lon: [-165..165]\n",
    "Number Of Attributes: 2\n",
    "  long_name :\ttemperature\n",
    "  units :\tK\n",
    "\n",
    "Variable: v\n",
    "Type: double\n",
    "Total Size: 6912000 bytes\n",
    "            864000 values\n",
    "Number of Dimensions: 4\n",
    "Dimensions and sizes:\t[time | 200] x [plev | 60] x [lat | 6] x [lon | 12]\n",
    "Coordinates: \n",
    "            time: [0.25..99.75]\n",
    "            plev: [8.44375..1004.806]\n",
    "            lat: [-75..75]\n",
    "            lon: [-165..165]\n",
    "Number Of Attributes: 2\n",
    "  long_name :\tmeridional wind\n",
    "  units :\tm/s\n",
    "\n",
    "Variable: ehf\n",
    "Type: double\n",
    "Total Size: 576000 bytes\n",
    "            72000 values\n",
    "Number of Dimensions: 3\n",
    "Dimensions and sizes:\t[time | 200] x [plev | 60] x [lat | 6]\n",
    "Coordinates: \n",
    "            time: [0.25..99.75]\n",
    "            plev: [8.44375..1004.806]\n",
    "            lat: [-75..75]\n",
    "Number Of Attributes: 2\n",
    "  units :\tK*m/s\n",
    "  long_name :\teddy heat flux\n",
    "\n",
    "```"
   ]
  },
  {
   "cell_type": "code",
   "execution_count": 18,
   "id": "ae5c99cf",
   "metadata": {},
   "outputs": [
    {
     "name": "stdout",
     "output_type": "stream",
     "text": [
      "netcdf fluxes_output {\n",
      "dimensions:\n",
      "\ttime = 200 ;\n",
      "\tplev = 60 ;\n",
      "\tlat = 18 ;\n",
      "variables:\n",
      "\tdouble ehf(time, plev, lat) ;\n",
      "\t\tehf:units = \"K*m/s\" ;\n",
      "\t\tehf:long_name = \"eddy heat flux\" ;\n",
      "\tfloat time(time) ;\n",
      "\t\ttime:standard_name = \"time\" ;\n",
      "\t\ttime:axis = \"T\" ;\n",
      "\t\ttime:units = \"days since 00-01-01 00:00:00\" ;\n",
      "\t\ttime:calendar = \"360_day\" ;\n",
      "\t\ttime:long_name = \"time\" ;\n",
      "\tfloat plev(plev) ;\n",
      "\t\tplev:standard_name = \"pressure level\" ;\n",
      "\t\tplev:axis = \"Z\" ;\n",
      "\t\tplev:units = \"hPa\" ;\n",
      "\t\tplev:long_name = \"pressure level\" ;\n",
      "\tfloat lat(lat) ;\n",
      "\t\tlat:standard_name = \"latitude\" ;\n",
      "\t\tlat:axis = \"Y\" ;\n",
      "\t\tlat:units = \"degN\" ;\n",
      "\t\tlat:long_name = \"latitude\" ;\n",
      "}\n"
     ]
    }
   ],
   "source": [
    "%%bash\n",
    "# rm data/fluxes_output.nc 2>/dev/null\n",
    "# ncl fluxes.ncl\n",
    "ncdump -h data/fluxes_output.nc"
   ]
  }
 ],
 "metadata": {
  "kernelspec": {
   "display_name": "Python 3",
   "language": "python",
   "name": "python3"
  },
  "language_info": {
   "codemirror_mode": {
    "name": "ipython",
    "version": 3
   },
   "file_extension": ".py",
   "mimetype": "text/x-python",
   "name": "python",
   "nbconvert_exporter": "python",
   "pygments_lexer": "ipython3",
   "version": "3.8.2"
  },
  "toc": {
   "colors": {
    "hover_highlight": "#ece260",
    "navigate_num": "#000000",
    "navigate_text": "#000000",
    "running_highlight": "#FF0000",
    "selected_highlight": "#fff968",
    "sidebar_border": "#ffffff",
    "wrapper_background": "#ffffff"
   },
   "moveMenuLeft": false,
   "nav_menu": {
    "height": "300px",
    "width": "252px"
   },
   "navigate_menu": true,
   "number_sections": true,
   "sideBar": true,
   "threshold": 4,
   "toc_cell": false,
   "toc_position": {
    "height": "838px",
    "left": "0px",
    "right": "1431px",
    "top": "110px",
    "width": "212px"
   },
   "toc_section_display": "block",
   "toc_window_display": true,
   "widenNotebook": false
  },
  "varInspector": {
   "cols": {
    "lenName": 16,
    "lenType": 16,
    "lenVar": 40
   },
   "kernels_config": {
    "python": {
     "delete_cmd_postfix": "",
     "delete_cmd_prefix": "del ",
     "library": "var_list.py",
     "varRefreshCmd": "print(var_dic_list())"
    },
    "r": {
     "delete_cmd_postfix": ") ",
     "delete_cmd_prefix": "rm(",
     "library": "var_list.r",
     "varRefreshCmd": "cat(var_dic_list()) "
    }
   },
   "types_to_exclude": [
    "module",
    "function",
    "builtin_function_or_method",
    "instance",
    "_Feature"
   ],
   "window_display": false
  }
 },
 "nbformat": 4,
 "nbformat_minor": 5
}
