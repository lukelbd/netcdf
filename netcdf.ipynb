{
 "cells": [
  {
   "cell_type": "markdown",
   "id": "7010b7cc",
   "metadata": {},
   "source": [
    "# Background"
   ]
  },
  {
   "cell_type": "markdown",
   "id": "8f1cd48a",
   "metadata": {},
   "source": [
    "## Introduction"
   ]
  },
  {
   "cell_type": "markdown",
   "id": "552f1d1c",
   "metadata": {},
   "source": [
    "### Problem\n",
    "\n",
    "Earth scientists work with huge, 4+ dimensional datasets (3\n",
    "spatial dimensions, 1 time dimension, and sometimes even more).\n",
    "\n",
    "-   Example: Air temperature (longitude, latitude, height, time)\n",
    "\n",
    "-   Example: Surface pressure from \"ensemble\" of model simulations\n",
    "    (longitude, latitude, time, ensemble member)\n",
    "\n",
    "-   Example: Satellite-retrieved radiation (projection x-coordinate,\n",
    "    projection y-coordinate, wavenumber)\n",
    "    \n",
    "### Question\n",
    "\n",
    "What's the best way to **store** these 4+ dimensional datasets?\n",
    "\n",
    "-   Spreadsheets? Not enough dimensions.\n",
    "\n",
    "-   Matrices? No way to annotate \"rows\", \"columns\", etc.\n",
    "\n",
    "### Answer\n",
    "\n",
    "The [NetCDF](https://en.wikipedia.org/wiki/NetCDF) format\n",
    "(Network Common Data Form) developed by\n",
    "[UCAR/Unidata](https://www.unidata.ucar.edu/software/netcdf/) (right\n",
    "down the road!).\n",
    "\n",
    "-   Description: Annotated N-dimensional matrices (arrays)\n",
    "\n",
    "-   File extension: `.nc`\n",
    "\n",
    "There are other similar data formats\n",
    "([HDF](https://en.wikipedia.org/wiki/Hierarchical_Data_Format),\n",
    "[GRIB](https://en.wikipedia.org/wiki/GRIB)), and some software can work\n",
    "seamlessly with different formats... but **NetCDF is your new best friend**."
   ]
  },
  {
   "cell_type": "markdown",
   "id": "c2884bef",
   "metadata": {},
   "source": [
    "## Architecture"
   ]
  },
  {
   "cell_type": "markdown",
   "id": "3fb98926",
   "metadata": {},
   "source": [
    "NetCDF files have the following features:\n",
    "\n",
    "-   Global attributes, describing the contents of the NetCDF file. **Attributes are optional.**\n",
    "\n",
    "-   Named dimensions, describing the dimensions on the arrays contained in the NetCDF file.\n",
    "\n",
    "-   Named variables, i.e. the data arrays, each with their own dimensions and attributes.\n",
    "\n",
    "- \"Coordinate variables\", named variables whose name matches a dimension name. **Coordinate variables are optional.**\n",
    "\n",
    "Example: A simple file containing [HadCRUT](https://crudata.uea.ac.uk/cru/data/temperature/) land and sea surface temperature data."
   ]
  },
  {
   "cell_type": "code",
   "execution_count": 27,
   "id": "c5d0abff",
   "metadata": {
    "scrolled": false
   },
   "outputs": [
    {
     "name": "stdout",
     "output_type": "stream",
     "text": [
      "netcdf sst {\n",
      "dimensions:\n",
      "\tlatitude = 36 ;\n",
      "\tlongitude = 72 ;\n",
      "\tfield_status_string_length = 1 ;\n",
      "\ttime = UNLIMITED ; // (2010 currently)\n",
      "variables:\n",
      "\tfloat latitude(latitude) ;\n",
      "\t\tlatitude:standard_name = \"latitude\" ;\n",
      "\t\tlatitude:long_name = \"latitude\" ;\n",
      "\t\tlatitude:point_spacing = \"even\" ;\n",
      "\t\tlatitude:units = \"degrees_north\" ;\n",
      "\t\tlatitude:axis = \"Y\" ;\n",
      "\tfloat longitude(longitude) ;\n",
      "\t\tlongitude:standard_name = \"longitude\" ;\n",
      "\t\tlongitude:long_name = \"longitude\" ;\n",
      "\t\tlongitude:point_spacing = \"even\" ;\n",
      "\t\tlongitude:units = \"degrees_east\" ;\n",
      "\t\tlongitude:axis = \"X\" ;\n",
      "\tfloat time(time) ;\n",
      "\t\ttime:standard_name = \"time\" ;\n",
      "\t\ttime:long_name = \"time\" ;\n",
      "\t\ttime:units = \"days since 1850-1-1 00:00:00\" ;\n",
      "\t\ttime:calendar = \"gregorian\" ;\n",
      "\t\ttime:start_year = 1850s ;\n",
      "\t\ttime:end_year = 2017s ;\n",
      "\t\ttime:start_month = 1s ;\n",
      "\t\ttime:end_month = 6s ;\n",
      "\t\ttime:axis = \"T\" ;\n",
      "\tfloat temperature_anomaly(time, latitude, longitude) ;\n",
      "\t\ttemperature_anomaly:long_name = \"near_surface_temperature_anomaly\" ;\n",
      "\t\ttemperature_anomaly:units = \"K\" ;\n",
      "\t\ttemperature_anomaly:missing_value = -1.e+30f ;\n",
      "\t\ttemperature_anomaly:_FillValue = -1.e+30f ;\n",
      "\t\ttemperature_anomaly:reference_period = 1961s, 1990s ;\n",
      "\tchar field_status(time, field_status_string_length) ;\n",
      "\t\tfield_status:long_name = \"field_status\" ;\n",
      "\n",
      "// global attributes:\n",
      "\t\t:title = \"HadCRUT4 near-surface temperature ensemble data - ensemble median\" ;\n",
      "\t\t:institution = \"Met Office Hadley Centre / Climatic Research Unit, University of East Anglia\" ;\n",
      "\t\t:history = \"Updated at 26/07/2017 12:27:42\" ;\n",
      "\t\t:source = \"CRUTEM.4.5.0.0, HadSST.3.1.1.0\" ;\n",
      "\t\t:comment = \"\" ;\n",
      "\t\t:reference = \"Morice, C. P., J. J. Kennedy, N. A. Rayner, and P. D. Jones (2012), Quantifying uncertainties in global and regional temperature change using an ensemble of observational estimates: The HadCRUT4 dataset, J. Geophys. Res., doi:10.1029/2011JD017187\" ;\n",
      "\t\t:version = \"HadCRUT.4.5.0.0\" ;\n",
      "\t\t:Conventions = \"CF-1.0\" ;\n",
      "\t\t:ensemble_members = 100s ;\n",
      "\t\t:ensemble_member_index = 0s ;\n",
      "}\n"
     ]
    }
   ],
   "source": [
    "%%bash\n",
    "ncdump -h data/sst.nc"
   ]
  },
  {
   "cell_type": "markdown",
   "id": "db53313e",
   "metadata": {},
   "source": [
    "NetCDF file formats also have [different \"version\n",
    "numbers\"](https://www.unidata.ucar.edu/software/netcdf/docs/faq.html#How-many-netCDF-formats-are-there-and-what-are-the-differences-among-them):\n",
    "\n",
    "\n",
    "-   NetCDF3 (version 3) [retired in\n",
    "    2008](https://www.unidata.ucar.edu/software/netcdf/docs/RELEASE_NOTES.html#autotoc_md60).\n",
    "    Unidata is [currently version\n",
    "    4](https://www.unidata.ucar.edu/software/netcdf/docs/RELEASE_NOTES.html#autotoc_md0).\n",
    "\n",
    "-   However version 3 still widespread (scientists are slow to change\n",
    "    their ways... too many other things to worry about).\n",
    "\n",
    "-   Some things in NetCDF4 are impossible in NetCDF3 (e.g., multiple unlimited\n",
    "    dimensions).\n",
    "\n",
    "-   Weird read/write bugs are sometimes due to version\n",
    "    incompatibilities.\n",
    "\n",
    "NetCDF3 is still everywhere, so you may need to use it."
   ]
  },
  {
   "cell_type": "code",
   "execution_count": 25,
   "id": "a018fe7d",
   "metadata": {},
   "outputs": [
    {
     "name": "stdout",
     "output_type": "stream",
     "text": [
      "netCDF-4\n"
     ]
    }
   ],
   "source": [
    "%%bash\n",
    "ncdump -k data/sst.nc"
   ]
  },
  {
   "cell_type": "code",
   "execution_count": 26,
   "id": "779b0543",
   "metadata": {},
   "outputs": [
    {
     "name": "stdout",
     "output_type": "stream",
     "text": [
      "classic\n"
     ]
    }
   ],
   "source": [
    "%%bash\n",
    "ncdump -k data/landfracs.nc"
   ]
  },
  {
   "cell_type": "markdown",
   "id": "37d272d3",
   "metadata": {},
   "source": [
    "# Command-line tools"
   ]
  },
  {
   "cell_type": "markdown",
   "id": "760252e4",
   "metadata": {},
   "source": [
    "There's lots of software for working with NetCDF (HDF, GRIB) files.\n",
    "First, the command-line tools:\n",
    "\n",
    "- [NCO](http://nco.sourceforge.net/nco.html) (NetCDF Operators).\n",
    "- [CDO](https://code.mpimet.mpg.de/projects/cdo/wiki/Cdo#Documentation) (Climate Data Operators)."
   ]
  },
  {
   "cell_type": "markdown",
   "id": "877764b6",
   "metadata": {},
   "source": [
    "## NCO"
   ]
  },
  {
   "cell_type": "markdown",
   "id": "eddb8000",
   "metadata": {},
   "source": [
    "- Developed by Unidata, the makers of the NetCDF format.\n",
    "- Extremely versatile but a bit clunky to learn.\n",
    "- Tend to be slower.\n",
    "- Consist of a suite of separate commands:"
   ]
  },
  {
   "cell_type": "markdown",
   "id": "032c5c55",
   "metadata": {},
   "source": [
    "## CDO\n"
   ]
  },
  {
   "cell_type": "markdown",
   "id": "14d067ea",
   "metadata": {},
   "source": [
    "- Developed by the Max Planck Institute for Meteorology.\n",
    "- Sleeker and more \"modern\" NetCDf tool.\n",
    "- Consists of a single command-line command `cdo` but with [hundreds of subcommands](https://code.mpimet.mpg.de/projects/cdo/wiki/Tutorial#Basic-Usage).\n",
    "- Inclues a game-changer \"[operator chaining](https://code.mpimet.mpg.de/projects/cdo/embedded/index.html#x1-120001.2.6)\" feature.\n",
    "- Powered by C++ with built-in parallelization, so this tends to be faster\n",
    "- The only major caveat: Your data must fit a rigid format, with 2 horizontal dimensions, an optional vertical dimension, and an optional time dimension.\n",
    "- CDO must be able to infer these dimensions based on the attributes (using the [CF-standards for coordinates](http://cfconventions.org/cf-conventions/cf-conventions.html#coordinate-types)).\n",
    "\n",
    "The following example contains CDO."
   ]
  },
  {
   "cell_type": "markdown",
   "id": "101d773f",
   "metadata": {},
   "source": [
    "# Python tools"
   ]
  },
  {
   "cell_type": "markdown",
   "id": "7989d0ca",
   "metadata": {},
   "source": [
    "Next, the python tools:\n",
    "\n",
    "-   [netCDF4](https://unidata.github.io/netcdf4-python/)\n",
    "\n",
    "-   [xarray](http://xarray.pydata.org/en/stable/)\n",
    "\n",
    "-   [iris\n",
    "    \"cubes\"](https://scitools.org.uk/iris/docs/v1.13.0/userguide/loading_iris_cubes.html) -- this tool is older, less widely used, falling out of favor (xarray was built\n",
    "    as an [improvement on\n",
    "    \"cubes\"](http://xarray.pydata.org/en/stable/getting-started-guide/faq.html#what-other-netcdf-related-python-libraries-should-i-know-about)).\n",
    "    \n",
    "-   [cf-python](https://github.com/NCAS-CMS/cf-python) -- this tool is not widely used.\n",
    "\n",
    "We will focus on the two most widely used tools, netCDF4 and xarray."
   ]
  },
  {
   "cell_type": "markdown",
   "id": "9bf5a87a",
   "metadata": {},
   "source": [
    "## netCDF4"
   ]
  },
  {
   "cell_type": "markdown",
   "id": "4dcaa52e",
   "metadata": {},
   "source": [
    "- The more \"low-level\" tool (requires more lines of code).\n",
    "- Generally the fastest tool (unless you are using dask on a supercomputer -- see below).\n",
    "- Used *internally* in the xarray source code.\n",
    "- **Warning**: Confusingly, \"netCDF4\" works with both NetCDF versions 3 and 4! \n",
    "\n",
    "I recommend using netCDF4 only if you have a very specific reason to use it over xarray (e.g., running calculations on many many small files on a laptop or individual server)."
   ]
  },
  {
   "cell_type": "markdown",
   "id": "be6e3fd6",
   "metadata": {},
   "source": [
    "## xarray "
   ]
  },
  {
   "cell_type": "markdown",
   "id": "fdbf753c",
   "metadata": {},
   "source": [
    "* The more \"high-level\" tool (requires fewer lines of code).\n",
    "* The \"new kid\" on the block but *extremely* powerful.\n",
    "* Generally slower, unless you are using a supercomputer and combine xarray with [dask-powered parallel computing](http://xarray.pydata.org/en/stable/user-guide/dask.html).\n",
    "\n",
    "I recommend using xarray most of the time. "
   ]
  },
  {
   "cell_type": "markdown",
   "id": "c495d05e",
   "metadata": {},
   "source": [
    "# Other tools"
   ]
  },
  {
   "cell_type": "markdown",
   "id": "820ce18b",
   "metadata": {},
   "source": [
    "## MATLAB"
   ]
  },
  {
   "cell_type": "markdown",
   "id": "dc9f87bc",
   "metadata": {},
   "source": [
    "If possible, I recommend against using [MATLAB](https://www.mathworks.com/products/matlab.html).\n",
    "\n",
    "MATLAB's syntax is convenient, but python has many useful tools that have no MATLAB equivalent (e.g., dask, xarray, jupyter, metpy). Python is also open source and has a massive community, which helps with debugging code and developing even more useful tools.\n",
    "\n",
    "If you know MATLAB but don't know python, an REU internship is a great time to learn (that's how I did it!).\n",
    "\n",
    "If you really need to use MATLAB (for example, you will be working from MATLAB scripts provided by your advisor), more information on MATLAB's NetCDF utilities can be found [here](https://www.mathworks.com/help/matlab/network-common-data-form.html)."
   ]
  },
  {
   "cell_type": "markdown",
   "id": "ae500f05",
   "metadata": {},
   "source": [
    "## Julia"
   ]
  },
  {
   "cell_type": "markdown",
   "id": "8973460c",
   "metadata": {},
   "source": [
    "If possible, I also recommend against the [Julia language](https://julialang.org/) for the time being.\n",
    "\n",
    "Julia's NetCDF tools are currently not as advanced as python, and the community is relatively small. The Julia language is a really awesome idea, and I'm excited about it! But I don't think Julia has proved itself as being worthy for us to jump ship from python yet.\n",
    "\n",
    "If you disagree, the two major NetCDF-processing tools in Julia are [NetCDF.jl](https://github.com/JuliaGeo/NetCDF.jl) (for MATLAB-style syntax) and [NCDatasets.jl](https://github.com/Alexander-Barth/NCDatasets.jl) (for python's xarray-style syntax)."
   ]
  },
  {
   "cell_type": "markdown",
   "id": "52a343df",
   "metadata": {},
   "source": [
    "## NCL"
   ]
  },
  {
   "cell_type": "markdown",
   "id": "0c0859c6",
   "metadata": {},
   "source": [
    "A final tool I didn't mention is [NCL](https://www.ncl.ucar.edu) (the NCAR Command\n",
    "Language). This is one of my favorites!\n",
    "\n",
    "-   MATLAB: Everything is an array.\n",
    "\n",
    "-   Python: Everything is an object (or dictionary, depending on who you\n",
    "    ask).\n",
    "\n",
    "-   NCL: Everything is a NetCDF-formatted dataset. If you're a\n",
    "    geoscientist, this paradigm is pretty awesome.\n",
    "\n",
    "Sadly, in 2021 you should **avoid using NCL** for two reasons:\n",
    "\n",
    "-   NCL [is being\n",
    "    deprecated](https://www.ncl.ucar.edu/Document/Pivot_to_Python/september_2019_update.shtml)\n",
    "    (Unidata developers are now focusing on python tools).\n",
    "\n",
    "-   As \"cool\" as NCL is, it is very slow... among the slowest tools (see [these\n",
    "    benchmark results](https://github.com/lukelbd/atmos-benchmarks)).\n",
    "    \n",
    "In case you do need to use it, the following example reads XYZT temperature and wind data, then saves YZT \"eddy heat\n",
    "flux\"."
   ]
  },
  {
   "cell_type": "code",
   "execution_count": 7,
   "id": "2d13ea69",
   "metadata": {},
   "outputs": [
    {
     "name": "stdout",
     "output_type": "stream",
     "text": [
      "netcdf fluxes_input {\n",
      "dimensions:\n",
      "\ttime = UNLIMITED ; // (200 currently)\n",
      "\tplev = 60 ;\n",
      "\tlat = 18 ;\n",
      "\tlon = 36 ;\n",
      "variables:\n",
      "\tfloat time(time) ;\n",
      "\t\ttime:long_name = \"time\" ;\n",
      "\t\ttime:calendar = \"360_day\" ;\n",
      "\t\ttime:units = \"days since 00-01-01 00:00:00\" ;\n",
      "\t\ttime:axis = \"T\" ;\n",
      "\t\ttime:standard_name = \"time\" ;\n",
      "\tfloat plev(plev) ;\n",
      "\t\tplev:long_name = \"pressure level\" ;\n",
      "\t\tplev:units = \"hPa\" ;\n",
      "\t\tplev:axis = \"Z\" ;\n",
      "\t\tplev:standard_name = \"pressure level\" ;\n",
      "\tfloat lat(lat) ;\n",
      "\t\tlat:long_name = \"latitude\" ;\n",
      "\t\tlat:units = \"degN\" ;\n",
      "\t\tlat:axis = \"Y\" ;\n",
      "\t\tlat:standard_name = \"latitude\" ;\n",
      "\tfloat lon(lon) ;\n",
      "\t\tlon:long_name = \"longitude\" ;\n",
      "\t\tlon:units = \"degE\" ;\n",
      "\t\tlon:axis = \"X\" ;\n",
      "\t\tlon:standard_name = \"longitude\" ;\n",
      "\tdouble u(time, plev, lat, lon) ;\n",
      "\t\tu:long_name = \"zonal wind\" ;\n",
      "\t\tu:units = \"m/s\" ;\n",
      "\tdouble v(time, plev, lat, lon) ;\n",
      "\t\tv:long_name = \"meridional wind\" ;\n",
      "\t\tv:units = \"m/s\" ;\n",
      "\tdouble t(time, plev, lat, lon) ;\n",
      "\t\tt:long_name = \"temperature\" ;\n",
      "\t\tt:units = \"K\" ;\n",
      "}\n"
     ]
    }
   ],
   "source": [
    "%%bash\n",
    "ncdump -h data/fluxes_input.nc"
   ]
  },
  {
   "cell_type": "markdown",
   "id": "ef885ec0",
   "metadata": {},
   "source": [
    "The `fluxes.ncl` script contains the following:\n",
    "\n",
    "```\n",
    "; Sample NCL file\n",
    "; This is a comment\n",
    "f = addfile(\"data/fluxes_input.nc\", \"r\")\n",
    "o = addfile(\"data/fluxes_output.nc\", \"c\")\n",
    "t = f->t\n",
    "v = f->v\n",
    "tstar = t - conform(t, dim_avg_n(t, 3), (/0, 1, 2/))  ; zonal temperature anomaly\n",
    "vstar = v - conform(v, dim_avg_n(v, 3), (/0, 1, 2/))  ; zonal meridional-wind anomaly\n",
    "ehf = dim_avg_n(tstar * vstar, 3)  ; eddy heat flux\n",
    "copy_VarCoords(t(:, :, :, 0), ehf)\n",
    "ehf@long_name = \"eddy heat flux\"\n",
    "ehf@units = \"K*m/s\"\n",
    "o->ehf = ehf\n",
    "```\n",
    "\n",
    "Running `ncl fluxes.ncl` will show the following (will not work inside this notebook).\n",
    "```\n",
    "Variable: t\n",
    "Type: double\n",
    "Total Size: 6912000 bytes\n",
    "            864000 values\n",
    "Number of Dimensions: 4\n",
    "Dimensions and sizes:\t[time | 200] x [plev | 60] x [lat | 6] x [lon | 12]\n",
    "Coordinates: \n",
    "            time: [0.25..99.75]\n",
    "            plev: [8.44375..1004.806]\n",
    "            lat: [-75..75]\n",
    "            lon: [-165..165]\n",
    "Number Of Attributes: 2\n",
    "  long_name :\ttemperature\n",
    "  units :\tK\n",
    "\n",
    "Variable: v\n",
    "Type: double\n",
    "Total Size: 6912000 bytes\n",
    "            864000 values\n",
    "Number of Dimensions: 4\n",
    "Dimensions and sizes:\t[time | 200] x [plev | 60] x [lat | 6] x [lon | 12]\n",
    "Coordinates: \n",
    "            time: [0.25..99.75]\n",
    "            plev: [8.44375..1004.806]\n",
    "            lat: [-75..75]\n",
    "            lon: [-165..165]\n",
    "Number Of Attributes: 2\n",
    "  long_name :\tmeridional wind\n",
    "  units :\tm/s\n",
    "\n",
    "Variable: ehf\n",
    "Type: double\n",
    "Total Size: 576000 bytes\n",
    "            72000 values\n",
    "Number of Dimensions: 3\n",
    "Dimensions and sizes:\t[time | 200] x [plev | 60] x [lat | 6]\n",
    "Coordinates: \n",
    "            time: [0.25..99.75]\n",
    "            plev: [8.44375..1004.806]\n",
    "            lat: [-75..75]\n",
    "Number Of Attributes: 2\n",
    "  units :\tK*m/s\n",
    "  long_name :\teddy heat flux\n",
    "\n",
    "```"
   ]
  },
  {
   "cell_type": "code",
   "execution_count": 18,
   "id": "0a8e004d",
   "metadata": {},
   "outputs": [
    {
     "name": "stdout",
     "output_type": "stream",
     "text": [
      "netcdf fluxes_output {\n",
      "dimensions:\n",
      "\ttime = 200 ;\n",
      "\tplev = 60 ;\n",
      "\tlat = 18 ;\n",
      "variables:\n",
      "\tdouble ehf(time, plev, lat) ;\n",
      "\t\tehf:units = \"K*m/s\" ;\n",
      "\t\tehf:long_name = \"eddy heat flux\" ;\n",
      "\tfloat time(time) ;\n",
      "\t\ttime:standard_name = \"time\" ;\n",
      "\t\ttime:axis = \"T\" ;\n",
      "\t\ttime:units = \"days since 00-01-01 00:00:00\" ;\n",
      "\t\ttime:calendar = \"360_day\" ;\n",
      "\t\ttime:long_name = \"time\" ;\n",
      "\tfloat plev(plev) ;\n",
      "\t\tplev:standard_name = \"pressure level\" ;\n",
      "\t\tplev:axis = \"Z\" ;\n",
      "\t\tplev:units = \"hPa\" ;\n",
      "\t\tplev:long_name = \"pressure level\" ;\n",
      "\tfloat lat(lat) ;\n",
      "\t\tlat:standard_name = \"latitude\" ;\n",
      "\t\tlat:axis = \"Y\" ;\n",
      "\t\tlat:units = \"degN\" ;\n",
      "\t\tlat:long_name = \"latitude\" ;\n",
      "}\n"
     ]
    }
   ],
   "source": [
    "%%bash\n",
    "# rm data/fluxes_output.nc 2>/dev/null\n",
    "# ncl fluxes.ncl\n",
    "ncdump -h data/fluxes_output.nc"
   ]
  }
 ],
 "metadata": {
  "kernelspec": {
   "display_name": "Python 3",
   "language": "python",
   "name": "python3"
  },
  "language_info": {
   "codemirror_mode": {
    "name": "ipython",
    "version": 3
   },
   "file_extension": ".py",
   "mimetype": "text/x-python",
   "name": "python",
   "nbconvert_exporter": "python",
   "pygments_lexer": "ipython3",
   "version": "3.8.2"
  },
  "toc": {
   "colors": {
    "hover_highlight": "#ece260",
    "navigate_num": "#000000",
    "navigate_text": "#000000",
    "running_highlight": "#FF0000",
    "selected_highlight": "#fff968",
    "sidebar_border": "#ffffff",
    "wrapper_background": "#ffffff"
   },
   "moveMenuLeft": false,
   "nav_menu": {
    "height": "300px",
    "width": "252px"
   },
   "navigate_menu": true,
   "number_sections": true,
   "sideBar": true,
   "threshold": 4,
   "toc_cell": false,
   "toc_position": {
    "height": "838px",
    "left": "0px",
    "right": "1431px",
    "top": "110px",
    "width": "212px"
   },
   "toc_section_display": "block",
   "toc_window_display": true,
   "widenNotebook": false
  },
  "varInspector": {
   "cols": {
    "lenName": 16,
    "lenType": 16,
    "lenVar": 40
   },
   "kernels_config": {
    "python": {
     "delete_cmd_postfix": "",
     "delete_cmd_prefix": "del ",
     "library": "var_list.py",
     "varRefreshCmd": "print(var_dic_list())"
    },
    "r": {
     "delete_cmd_postfix": ") ",
     "delete_cmd_prefix": "rm(",
     "library": "var_list.r",
     "varRefreshCmd": "cat(var_dic_list()) "
    }
   },
   "types_to_exclude": [
    "module",
    "function",
    "builtin_function_or_method",
    "instance",
    "_Feature"
   ],
   "window_display": false
  }
 },
 "nbformat": 4,
 "nbformat_minor": 5
}
